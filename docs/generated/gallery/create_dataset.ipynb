{
  "cells": [
    {
      "cell_type": "code",
      "execution_count": null,
      "metadata": {
        "collapsed": false
      },
      "outputs": [],
      "source": [
        "%matplotlib inline"
      ]
    },
    {
      "cell_type": "markdown",
      "metadata": {},
      "source": [
        "\nDataset\n====================\n\nThis script is an example to process a DataSet class and save the output\n"
      ]
    },
    {
      "cell_type": "code",
      "execution_count": null,
      "metadata": {
        "collapsed": false
      },
      "outputs": [],
      "source": [
        "import pathlib\n\nimport pyhydrophone as pyhy\nimport pypam"
      ]
    },
    {
      "cell_type": "markdown",
      "metadata": {},
      "source": [
        "First it is necessary to create a csv with all the metadata. You can have a look at an example at\nexamples/data_summary_example.csv\nAcoustic Data\n\n"
      ]
    },
    {
      "cell_type": "code",
      "execution_count": null,
      "metadata": {
        "collapsed": false
      },
      "outputs": [],
      "source": [
        "summary_path = pathlib.Path(\"data_summary_example.csv\")\ninclude_dirs = False\n\n# Output folder\noutput_folder = summary_path.parent.joinpath(\"data_exploration\")\n\n# Hydrophone Setup\n# If Vpp is 2.0 then it means the wav is -1 to 1 directly related to V\nmodel = \"ST300HF\"\nname = \"SoundTrap\"\nserial_number = 67416073\nsoundtrap = pyhy.soundtrap.SoundTrap(\n    name=name, model=model, serial_number=serial_number\n)\n\nbk_model = \"Nexus\"\nbk_name = \"B&K\"\npreamp_gain = -170\nbk_Vpp = 2.0\nbk = pyhy.BruelKjaer(\n    name=bk_name,\n    model=bk_model,\n    preamp_gain=preamp_gain,\n    Vpp=bk_Vpp,\n    serial_number=1,\n    type_signal=\"ref\",\n)\n\nupam_model = \"uPam\"\nupam_name = \"Seiche\"\nupam_serial_number = \"SM7213\"\nupam_sensitivity = -196.0\nupam_preamp_gain = 0.0\nupam_Vpp = 20.0\nupam = pyhy.uPam(\n    name=upam_name,\n    model=upam_name,\n    serial_number=upam_serial_number,\n    sensitivity=upam_sensitivity,\n    preamp_gain=upam_preamp_gain,\n    Vpp=upam_Vpp,\n)\n\n\ninstruments = {\"SoundTrap\": soundtrap, \"uPam\": upam, \"B&K\": bk}\n\n# Acoustic params. Reference pressure 1 uPa\nREF_PRESSURE = 1e-6\n\n# SURVEY PARAMETERS\nnfft = 4096\nbinsize = 60.0\nfft_overlap = 0.5\nbin_overlap = 0.0\ndc_subtract = False\nband_lf = [50, 500]\nband_mf = [500, 2000]\nband_hf = [2000, 20000]\nband_list = [band_lf]\ntemporal_features = [\"rms\", \"sel\", \"aci\"]\nfrequency_features = [\"third_octaves_levels\"]"
      ]
    },
    {
      "cell_type": "markdown",
      "metadata": {},
      "source": [
        "Create the dataset object\n\n"
      ]
    },
    {
      "cell_type": "code",
      "execution_count": null,
      "metadata": {
        "collapsed": false
      },
      "outputs": [],
      "source": [
        "ds = pypam.dataset.DataSet(\n    summary_path,\n    output_folder,\n    instruments,\n    temporal_features=temporal_features,\n    frequency_features=frequency_features,\n    bands_list=band_list,\n    binsize=binsize,\n    bin_overlap=bin_overlap,\n    nfft=nfft,\n    fft_overlap=fft_overlap,\n    dc_subtract=dc_subtract,\n)\n# Call the dataset creation. Will create the files in the corresponding folder\nds()"
      ]
    }
  ],
  "metadata": {
    "kernelspec": {
      "display_name": "Python 3",
      "language": "python",
      "name": "python3"
    },
    "language_info": {
      "codemirror_mode": {
        "name": "ipython",
        "version": 3
      },
      "file_extension": ".py",
      "mimetype": "text/x-python",
      "name": "python",
      "nbconvert_exporter": "python",
      "pygments_lexer": "ipython3",
      "version": "3.12.0"
    }
  },
  "nbformat": 4,
  "nbformat_minor": 0
}