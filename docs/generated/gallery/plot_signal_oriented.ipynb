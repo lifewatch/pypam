{
  "cells": [
    {
      "cell_type": "code",
      "execution_count": null,
      "metadata": {
        "collapsed": false
      },
      "outputs": [],
      "source": [
        "%matplotlib inline"
      ]
    },
    {
      "cell_type": "markdown",
      "metadata": {},
      "source": [
        "\nSignal oriented processing\n==========================\n\nThis script is an example to use a lower level of pypam by directly working with the Signal class, and computing\nthe hybrid millidecade bands for it.\n"
      ]
    },
    {
      "cell_type": "code",
      "execution_count": null,
      "metadata": {
        "collapsed": false
      },
      "outputs": [],
      "source": [
        "import numpy as np\nimport xarray\nimport matplotlib.pyplot as plt\n\nimport pypam.utils as utils\nimport pypam.signal as sig\n\nplt.rcParams.update(plt.rcParamsDefault)\n\nN_CHUNKS = 5\n\n# Create artificial data of 1 second\nfs = 512000\ntest_freqs = [400, fs / 4]\nsamples = fs * N_CHUNKS\nnoise_amp = 100\nsignal_amp = 100\ndata = np.random.random(samples)\nt = np.linspace(0, 1 - 1 / fs, samples)\nphase = 2 * np.pi * t\nfor test_freq in test_freqs:\n    data = data + signal_amp * np.sin(test_freq * phase)\n# Set the nfft to 1 second\nnfft = fs\n\n# Loop through all your chunks\nlist_spectras = []\nfor i in np.arange(N_CHUNKS):\n    s = sig.Signal(data, fs=fs)\n    s.set_band(None)\n    fbands, spectra, _ = s.spectrum(\n        scaling=\"spectrum\", nfft=fs, db=False, overlap=0, force_calc=True\n    )\n    list_spectras.append(spectra)\n\n# Convert the spectra to a datarray\npsd_da = xarray.DataArray(\n    list_spectras,\n    coords={\"id\": np.arange(N_CHUNKS), \"frequency\": fbands},\n    dims=[\"id\", \"frequency\"],\n)\n\n# Get the millidecade bands\nbands_limits, bands_c = utils.get_hybrid_millidecade_limits(band=[0, fs / 2], nfft=nfft)\nmilli_psd = utils.spectra_ds_to_bands(\n    psd_da, bands_limits, bands_c, fft_bin_width=fs / nfft, db=False\n)\n\nmilli_psd.mean(\"id\").plot()\nplt.show()"
      ]
    }
  ],
  "metadata": {
    "kernelspec": {
      "display_name": "Python 3",
      "language": "python",
      "name": "python3"
    },
    "language_info": {
      "codemirror_mode": {
        "name": "ipython",
        "version": 3
      },
      "file_extension": ".py",
      "mimetype": "text/x-python",
      "name": "python",
      "nbconvert_exporter": "python",
      "pygments_lexer": "ipython3",
      "version": "3.12.0"
    }
  },
  "nbformat": 4,
  "nbformat_minor": 0
}