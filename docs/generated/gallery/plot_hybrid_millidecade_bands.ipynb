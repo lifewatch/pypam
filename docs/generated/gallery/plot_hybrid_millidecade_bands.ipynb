{
 "cells": [
  {
   "cell_type": "code",
   "execution_count": null,
   "metadata": {
    "collapsed": false
   },
   "outputs": [],
   "source": [
    "%matplotlib inline"
   ]
  },
  {
   "cell_type": "markdown",
   "metadata": {},
   "source": [
    "\nHybrid Millidecade bands\n========================\n\nThis script is an example to compute hybrid millidecade bands, save them as netCDF files and use them to plot\n"
   ]
  },
  {
   "cell_type": "markdown",
   "metadata": {},
   "source": [
    "Create the hydrophone object\n\n"
   ]
  },
  {
   "cell_type": "code",
   "execution_count": null,
   "metadata": {
    "collapsed": false
   },
   "outputs": [],
   "source": [
    "import pyhydrophone as pyhy\nimport pypam\n\n# Soundtrap\nmodel = \"ST300HF\"\nname = \"SoundTrap\"\nserial_number = 67416073\nsoundtrap = pyhy.soundtrap.SoundTrap(\n    name=name, model=model, sensitivity=-172.8, serial_number=serial_number\n)"
   ]
  },
  {
   "cell_type": "markdown",
   "metadata": {},
   "source": [
    "Set the study parameters\n\n"
   ]
  },
  {
   "cell_type": "code",
   "execution_count": null,
   "metadata": {
    "collapsed": false
   },
   "outputs": [],
   "source": [
    "# First, decide band to study. The top frequency should not be higher than the nyquist frequency (sampling rate/2)\nband = [0, 4000]\n\n# Then, set the nfft to double the sampling rate. If you want to pass None to your band, that is also an option, but\n# then you need to know the sampling frequency to choose the nfft.\nnfft = band[1] * 2  # or nfft = 8000\n\n# Set the band to 1 minute\nbinsize = 60.0"
   ]
  },
  {
   "cell_type": "markdown",
   "metadata": {},
   "source": [
    "Declare the Acoustic Survey\n\n"
   ]
  },
  {
   "cell_type": "code",
   "execution_count": null,
   "metadata": {
    "collapsed": false
   },
   "outputs": [],
   "source": [
    "include_dirs = False\nzipped_files = False\ndc_subtract = True\nasa = pypam.ASA(\n    hydrophone=soundtrap,\n    folder_path=\"../tests/test_data\",\n    binsize=binsize,\n    nfft=nfft,\n    timezone=\"UTC\",\n    include_dirs=include_dirs,\n    zipped=zipped_files,\n    dc_subtract=dc_subtract,\n)\n\n# Compute the hybrid millidecade bands\n# You can choose 'density' or 'spectrum' as a method\nmilli_psd = asa.hybrid_millidecade_bands(\n    db=True, method=\"density\", band=band, percentiles=None\n)\nprint(milli_psd[\"millidecade_bands\"])"
   ]
  },
  {
   "cell_type": "markdown",
   "metadata": {},
   "source": [
    "Now, with the obtained hybrid millidecade bands, make some plots\nWe will first load some pre-computed data\n\n"
   ]
  },
  {
   "cell_type": "code",
   "execution_count": null,
   "metadata": {
    "collapsed": false
   },
   "outputs": [],
   "source": [
    "import xarray\n\nmilli_psd_day = xarray.open_dataset(\"../tests/test_data/test_day.nc\")\nmilli_psd_day = milli_psd_day.where(milli_psd_day.frequency_bins > 10, drop=True)\n\n# Plot the spectrum mean with the standard deviation\npypam.plots.plot_spectrum_median(\n    milli_psd_day, data_var=\"millidecade_bands\", frequency_coord=\"frequency_bins\"\n)\n\n# Plot the SPD with percentiles\npercentiles = [10, 50, 90]\nspd = pypam.utils.compute_spd(\n    milli_psd_day, data_var=\"millidecade_bands\", percentiles=percentiles\n)\npypam.plots.plot_spd(spd)\n\n# Plot a summary\npypam.plots.plot_summary_dataset(\n    milli_psd_day,\n    data_var=\"millidecade_bands\",\n    percentiles=percentiles,\n    freq_coord=\"frequency_bins\",\n)"
   ]
  }
 ],
 "metadata": {
  "kernelspec": {
   "display_name": "Python 3",
   "language": "python",
   "name": "python3"
  },
  "language_info": {
   "codemirror_mode": {
    "name": "ipython",
    "version": 3
   },
   "file_extension": ".py",
   "mimetype": "text/x-python",
   "name": "python",
   "nbconvert_exporter": "python",
   "pygments_lexer": "ipython3",
   "version": "3.12.0"
  }
 },
 "nbformat": 4,
 "nbformat_minor": 0
}
