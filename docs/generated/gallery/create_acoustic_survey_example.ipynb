{
 "cells": [
  {
   "cell_type": "code",
   "execution_count": null,
   "metadata": {
    "collapsed": false
   },
   "outputs": [],
   "source": [
    "%matplotlib inline"
   ]
  },
  {
   "cell_type": "markdown",
   "metadata": {},
   "source": [
    "\nAcoustic Survey\n====================\n\nThis script is an example to compute temporal features and third octave levels on an Acoustic Survey\n"
   ]
  },
  {
   "cell_type": "code",
   "execution_count": null,
   "metadata": {
    "collapsed": false
   },
   "outputs": [],
   "source": [
    "import pyhydrophone as pyhy\nimport pypam"
   ]
  },
  {
   "cell_type": "markdown",
   "metadata": {},
   "source": [
    "Declare the hydrophone\n\n"
   ]
  },
  {
   "cell_type": "code",
   "execution_count": null,
   "metadata": {
    "collapsed": false
   },
   "outputs": [],
   "source": [
    "# Soundtrap\nmodel = \"ST300HF\"\nname = \"SoundTrap\"\nserial_number = 67416073\nsoundtrap = pyhy.soundtrap.SoundTrap(\n    name=name, model=model, sensitivity=-172.8, serial_number=serial_number\n)\n\n# SURVEY PARAMETERS\nnfft = 4096\nbinsize = 30.0\nband_lf = [50, 500]\nband_hf = [500, 4000]\nband_list = [band_lf, band_hf]\nfeatures = [\"rms\", \"peak\", \"sel\"]\n\nthird_octaves = None\ndc_subtract = True\n\ninclude_dirs = False\nzipped_files = False\n\nmin_separation = 1\nmax_duration = 0.2\nthreshold = 20\ndt = 2.0\ndetection_band = [500, 1000]"
   ]
  },
  {
   "cell_type": "markdown",
   "metadata": {},
   "source": [
    "Run the different parameters\n\n"
   ]
  },
  {
   "cell_type": "code",
   "execution_count": null,
   "metadata": {
    "collapsed": false
   },
   "outputs": [],
   "source": [
    "asa = pypam.ASA(\n    hydrophone=soundtrap,\n    folder_path=\"../tests/test_data\",\n    binsize=binsize,\n    nfft=nfft,\n    timezone=\"UTC\",\n    include_dirs=include_dirs,\n    zipped=zipped_files,\n    dc_subtract=dc_subtract,\n)\nfeatures_ds = asa.evolution_multiple(method_list=features, band_list=band_list)\noct_ds = asa.evolution_freq_dom(\"third_octaves_levels\", band=third_octaves, db=True)"
   ]
  }
 ],
 "metadata": {
  "kernelspec": {
   "display_name": "Python 3",
   "language": "python",
   "name": "python3"
  },
  "language_info": {
   "codemirror_mode": {
    "name": "ipython",
    "version": 3
   },
   "file_extension": ".py",
   "mimetype": "text/x-python",
   "name": "python",
   "nbconvert_exporter": "python",
   "pygments_lexer": "ipython3",
   "version": "3.12.0"
  }
 },
 "nbformat": 4,
 "nbformat_minor": 0
}
